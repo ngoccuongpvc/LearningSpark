{
 "cells": [
  {
   "cell_type": "code",
   "execution_count": 18,
   "metadata": {},
   "outputs": [],
   "source": [
    "from pyspark.sql import SparkSession\n",
    "from pyspark.sql.functions import count"
   ]
  },
  {
   "cell_type": "code",
   "execution_count": 19,
   "metadata": {},
   "outputs": [],
   "source": [
    "spark = SparkSession.builder.appName(\"MnMCounter\").getOrCreate()"
   ]
  },
  {
   "cell_type": "code",
   "execution_count": 20,
   "metadata": {},
   "outputs": [],
   "source": [
    "df = spark.read.csv(\"mnm_dataset.csv\", header=True, inferSchema=True)"
   ]
  },
  {
   "cell_type": "code",
   "execution_count": 21,
   "metadata": {},
   "outputs": [
    {
     "name": "stdout",
     "output_type": "stream",
     "text": [
      "+-----+------+----------+\n",
      "|State| Color|TotalCount|\n",
      "+-----+------+----------+\n",
      "|   CA|Yellow|      1807|\n",
      "|   WA| Green|      1779|\n",
      "|   OR|Orange|      1743|\n",
      "|   TX| Green|      1737|\n",
      "|   TX|   Red|      1725|\n",
      "|   CA| Green|      1723|\n",
      "|   CO|Yellow|      1721|\n",
      "|   CA| Brown|      1718|\n",
      "|   CO| Green|      1713|\n",
      "|   NV|Orange|      1712|\n",
      "|   TX|Yellow|      1703|\n",
      "|   NV| Green|      1698|\n",
      "|   AZ| Brown|      1698|\n",
      "|   CO|  Blue|      1695|\n",
      "|   WY| Green|      1695|\n",
      "|   NM|   Red|      1690|\n",
      "|   AZ|Orange|      1689|\n",
      "|   NM|Yellow|      1688|\n",
      "|   NM| Brown|      1687|\n",
      "|   UT|Orange|      1684|\n",
      "+-----+------+----------+\n",
      "only showing top 20 rows\n",
      "\n"
     ]
    }
   ],
   "source": [
    "agg_df = df.groupBy(\"State\", \"Color\").agg(count(\"Count\").alias(\"TotalCount\")).orderBy(\"TotalCount\", ascending=False)\n",
    "agg_df.show()\n"
   ]
  },
  {
   "cell_type": "code",
   "execution_count": 22,
   "metadata": {},
   "outputs": [],
   "source": [
    "spark.stop()"
   ]
  },
  {
   "cell_type": "code",
   "execution_count": null,
   "metadata": {},
   "outputs": [],
   "source": [
    "    "
   ]
  }
 ],
 "metadata": {
  "kernelspec": {
   "display_name": ".venv",
   "language": "python",
   "name": "python3"
  },
  "language_info": {
   "codemirror_mode": {
    "name": "ipython",
    "version": 3
   },
   "file_extension": ".py",
   "mimetype": "text/x-python",
   "name": "python",
   "nbconvert_exporter": "python",
   "pygments_lexer": "ipython3",
   "version": "3.13.2"
  }
 },
 "nbformat": 4,
 "nbformat_minor": 2
}
